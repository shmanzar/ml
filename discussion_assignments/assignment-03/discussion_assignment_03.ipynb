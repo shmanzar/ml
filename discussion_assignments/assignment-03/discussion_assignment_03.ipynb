{
 "cells": [
  {
   "cell_type": "markdown",
   "metadata": {},
   "source": [
    "# Discussion Assignment 03 \n",
    "\n",
    "### Date: 5th Nov 2020\n",
    "#### Sherry\n",
    "\n",
    "The assignment details (including links to download the data) can be found [here](https://docs.google.com/document/d/1WGYw99e5q6j5V0Zrf2HveagU6URt_kVvdR8B9HYQ99E/edit?usp=sharing). "
   ]
  },
  {
   "cell_type": "code",
   "execution_count": 2,
   "metadata": {},
   "outputs": [],
   "source": [
    "# all imports and magic commands\n",
    "import numpy as np\n",
    "import pandas as pd\n",
    "import matplotlib.pyplot as plt\n",
    "from my_measures import BinaryClassificationPerformance\n",
    "from sklearn.feature_extraction.text import HashingVectorizer\n",
    "from sklearn.feature_extraction.text import TfidfTransformer\n",
    "from scipy.sparse import csr_matrix, hstack\n",
    "from sklearn.preprocessing import StandardScaler\n",
    "from sklearn.model_selection import train_test_split\n",
    "%matplotlib inline"
   ]
  },
  {
   "cell_type": "markdown",
   "metadata": {},
   "source": [
    "### IMPORTANT!!! Make sure you are using `BinaryClassificationPerformance` v1.02"
   ]
  },
  {
   "cell_type": "code",
   "execution_count": null,
   "metadata": {},
   "outputs": [],
   "source": [
    "help(BinaryClassificationPerformance)"
   ]
  },
  {
   "cell_type": "markdown",
   "metadata": {},
   "source": [
    "## Data cleaning and pruning - not incorporated yet"
   ]
  },
  {
   "cell_type": "code",
   "execution_count": 91,
   "metadata": {},
   "outputs": [],
   "source": [
    "# exploring the dataset - not used in model-building\n",
    "train_dataset = pd.read_csv('../../data/toxiccomments_train.csv')\n"
   ]
  },
  {
   "cell_type": "code",
   "execution_count": 103,
   "metadata": {},
   "outputs": [
    {
     "data": {
      "text/html": [
       "<div>\n",
       "<style scoped>\n",
       "    .dataframe tbody tr th:only-of-type {\n",
       "        vertical-align: middle;\n",
       "    }\n",
       "\n",
       "    .dataframe tbody tr th {\n",
       "        vertical-align: top;\n",
       "    }\n",
       "\n",
       "    .dataframe thead th {\n",
       "        text-align: right;\n",
       "    }\n",
       "</style>\n",
       "<table border=\"1\" class=\"dataframe\">\n",
       "  <thead>\n",
       "    <tr style=\"text-align: right;\">\n",
       "      <th></th>\n",
       "      <th>id</th>\n",
       "      <th>comment_text</th>\n",
       "      <th>toxic</th>\n",
       "      <th>severe_toxic</th>\n",
       "      <th>obscene</th>\n",
       "      <th>threat</th>\n",
       "      <th>insult</th>\n",
       "      <th>identity_hate</th>\n",
       "    </tr>\n",
       "  </thead>\n",
       "  <tbody>\n",
       "    <tr>\n",
       "      <th>90865</th>\n",
       "      <td>f3175595f7f157e3</td>\n",
       "      <td>Sorry Monkey the page got locked while we figu...</td>\n",
       "      <td>0</td>\n",
       "      <td>0</td>\n",
       "      <td>0</td>\n",
       "      <td>0</td>\n",
       "      <td>0</td>\n",
       "      <td>0</td>\n",
       "    </tr>\n",
       "  </tbody>\n",
       "</table>\n",
       "</div>"
      ],
      "text/plain": [
       "                     id                                       comment_text  \\\n",
       "90865  f3175595f7f157e3  Sorry Monkey the page got locked while we figu...   \n",
       "\n",
       "       toxic  severe_toxic  obscene  threat  insult  identity_hate  \n",
       "90865      0             0        0       0       0              0  "
      ]
     },
     "execution_count": 103,
     "metadata": {},
     "output_type": "execute_result"
    }
   ],
   "source": [
    "train_dataset[train_dataset.comment_text == 'Sorry Monkey the page got locked while we figure out who you are and report you to your employer.  YOU got pwned!   User:DONNY PWNED YOU']"
   ]
  },
  {
   "cell_type": "markdown",
   "metadata": {},
   "source": [
    "# Function for feature building and extraction on natural language data"
   ]
  },
  {
   "cell_type": "markdown",
   "metadata": {},
   "source": [
    "#### Changes made to feature building and extraction:\n",
    "  1. **added bigrams**\n",
    "  \n",
    "        `hv = HashingVectorizer(n_features=2 ** 17, alternate_sign=False, ngram_range=(1,2))`\n",
    "        \n",
    "        \n",
    "  2. **added smooth_idf parameter as False**\n",
    "  \n",
    "        `TfidfTransformer(smooth_idf=False)`\n",
    "        \n",
    "        \n",
    "  3. **Added two features: question counts and exclamation counts**\n",
    "            `toxic_data['exclaim_count'] = toxic_data['comment_text'].str.count(\"\\!\")`\n",
    "            `toxic_data['quest_count'] = toxic_data['comment_text'].str.count(\"\\?\")`\n",
    "       "
   ]
  },
  {
   "cell_type": "code",
   "execution_count": 3,
   "metadata": {},
   "outputs": [],
   "source": [
    "# function that takes raw data and completes all preprocessing required before model fits\n",
    "def process_raw_data(fn, my_random_seed, test=False):\n",
    "    # read and summarize data\n",
    "    toxic_data = pd.read_csv(fn)\n",
    "    if (not test):\n",
    "        # add an indicator for any toxic, severe toxic, obscene, threat, insult, or indentity hate\n",
    "        toxic_data['any_toxic'] = (toxic_data['toxic'] + toxic_data['severe_toxic'] + toxic_data['obscene'] + toxic_data['threat'] + toxic_data['insult'] + toxic_data['identity_hate'] > 0)\n",
    "    print(\"toxic_data is:\", type(toxic_data))\n",
    "    print(\"toxic_data has\", toxic_data.shape[0], \"rows and\", toxic_data.shape[1], \"columns\", \"\\n\")\n",
    "    print(\"the data types for each of the columns in toxic_data:\")\n",
    "    print(toxic_data.dtypes, \"\\n\")\n",
    "    print(\"the first 10 rows in toxic_data:\")\n",
    "    print(toxic_data.head(5))\n",
    "    if (not test):\n",
    "        print(\"The rate of 'toxic' Wikipedia comments in the dataset: \")\n",
    "        print(toxic_data['any_toxic'].mean())\n",
    "\n",
    "    # vectorize Bag of Words from review text; as sparse matrix\n",
    "    if (not test): # fit_transform()\n",
    "#         hv = HashingVectorizer(n_features=2 ** 13, alternate_sign=False, strip_accents = 'ascii', ngram_range=(3,5), stop_words='english', analyzer = 'word')\n",
    "        hv = HashingVectorizer(n_features=2 ** 17, alternate_sign=False, ngram_range=(1,2))\n",
    "        X_hv = hv.fit_transform(toxic_data.comment_text)\n",
    "        fitted_transformations.append(hv)\n",
    "        print(\"Shape of HashingVectorizer X:\")\n",
    "        print(X_hv.shape)\n",
    "    else: # transform() \n",
    "        X_hv = fitted_transformations[0].transform(toxic_data.comment_text)\n",
    "        print(\"Shape of HashingVectorizer X:\")\n",
    "        print(X_hv.shape)\n",
    "    \n",
    "    # http://scikit-learn.org/stable/modules/generated/sklearn.feature_extraction.text.TfidfTransformer.html\n",
    "    if (not test):\n",
    "        transformer = TfidfTransformer(smooth_idf=False)\n",
    "        X_tfidf = transformer.fit_transform(X_hv)\n",
    "        fitted_transformations.append(transformer)\n",
    "    else:\n",
    "        X_tfidf = fitted_transformations[1].transform(X_hv)\n",
    "    \n",
    "    # create additional quantitative features\n",
    "    # features from Amazon.csv to add to feature set\n",
    "    toxic_data['word_count'] = toxic_data['comment_text'].str.split(' ').str.len()\n",
    "    toxic_data['exclaim_count'] = toxic_data['comment_text'].str.count(\"\\!\")\n",
    "    toxic_data['quest_count'] = toxic_data['comment_text'].str.count(\"\\?\")\n",
    "\n",
    "    \n",
    "#     toxic_data['allcaps_count'] = toxic_data['comment_text'].str.findall(r'[A-Z]').str.len()\n",
    "\n",
    "#     X_quant_features = toxic_data[[\"word_count\", \"exclaim_count\", \"allcaps_count\"]]\n",
    "    X_quant_features = toxic_data[[\"word_count\", \"exclaim_count\", \"quest_count\"]]\n",
    "#     X_quant_features = toxic_data[[\"word_count\", \"exclaim_count\"]]\n",
    "\n",
    "\n",
    "    print(\"Look at a few rows of the new quantitative features: \")\n",
    "    print(X_quant_features.head(10))\n",
    "    \n",
    "    # Combine all quantitative features into a single sparse matrix\n",
    "    X_quant_features_csr = csr_matrix(X_quant_features)\n",
    "    X_combined = hstack([X_tfidf, X_quant_features_csr])\n",
    "    X_matrix = csr_matrix(X_combined) # convert to sparse matrix\n",
    "    print(\"Size of combined bag of words and new quantitative variables matrix:\")\n",
    "    print(X_matrix.shape)\n",
    "    \n",
    "    # Create `X`, scaled matrix of features\n",
    "    # feature scaling\n",
    "    if (not test):\n",
    "        sc = StandardScaler(with_mean=False)\n",
    "        X = sc.fit_transform(X_matrix)\n",
    "        fitted_transformations.append(sc)\n",
    "        print(X.shape)\n",
    "        y = toxic_data['any_toxic']\n",
    "    else:\n",
    "        X = fitted_transformations[2].transform(X_matrix)\n",
    "        print(X.shape)\n",
    "    \n",
    "    # Create Training and Test Sets\n",
    "    # enter an integer for the random_state parameter; any integer will work\n",
    "    if (test):\n",
    "        X_submission_test = X\n",
    "        print(\"Shape of X_test for submission:\")\n",
    "        print(X_submission_test.shape)\n",
    "        print('SUCCESS!')\n",
    "        return(toxic_data, X_submission_test)\n",
    "    else: \n",
    "        X_train, X_test, y_train, y_test, X_raw_train, X_raw_test = train_test_split(X, y, toxic_data, test_size=0.2, random_state=my_random_seed)\n",
    "        print(\"Shape of X_train and X_test:\")\n",
    "        print(X_train.shape)\n",
    "        print(X_test.shape)\n",
    "        print(\"Shape of y_train and y_test:\")\n",
    "        print(y_train.shape)\n",
    "        print(y_test.shape)\n",
    "        print(\"Shape of X_raw_train and X_raw_test:\")\n",
    "        print(X_raw_train.shape)\n",
    "        print(X_raw_test.shape)\n",
    "        print('SUCCESS!')\n",
    "        return(X_train, X_test, y_train, y_test, X_raw_train, X_raw_test)"
   ]
  },
  {
   "cell_type": "markdown",
   "metadata": {},
   "source": [
    "# Create training and test sets from function"
   ]
  },
  {
   "cell_type": "code",
   "execution_count": 4,
   "metadata": {},
   "outputs": [
    {
     "name": "stdout",
     "output_type": "stream",
     "text": [
      "toxic_data is: <class 'pandas.core.frame.DataFrame'>\n",
      "toxic_data has 159571 rows and 9 columns \n",
      "\n",
      "the data types for each of the columns in toxic_data:\n",
      "id               object\n",
      "comment_text     object\n",
      "toxic             int64\n",
      "severe_toxic      int64\n",
      "obscene           int64\n",
      "threat            int64\n",
      "insult            int64\n",
      "identity_hate     int64\n",
      "any_toxic          bool\n",
      "dtype: object \n",
      "\n",
      "the first 10 rows in toxic_data:\n",
      "                 id                                       comment_text  toxic  \\\n",
      "0  0000997932d777bf  Explanation\\nWhy the edits made under my usern...      0   \n",
      "1  000103f0d9cfb60f  D'aww! He matches this background colour I'm s...      0   \n",
      "2  000113f07ec002fd  Hey man, I'm really not trying to edit war. It...      0   \n",
      "3  0001b41b1c6bb37e  \"\\nMore\\nI can't make any real suggestions on ...      0   \n",
      "4  0001d958c54c6e35  You, sir, are my hero. Any chance you remember...      0   \n",
      "\n",
      "   severe_toxic  obscene  threat  insult  identity_hate  any_toxic  \n",
      "0             0        0       0       0              0      False  \n",
      "1             0        0       0       0              0      False  \n",
      "2             0        0       0       0              0      False  \n",
      "3             0        0       0       0              0      False  \n",
      "4             0        0       0       0              0      False  \n",
      "The rate of 'toxic' Wikipedia comments in the dataset: \n",
      "0.10167887648758234\n",
      "Shape of HashingVectorizer X:\n",
      "(159571, 131072)\n",
      "Look at a few rows of the new quantitative features: \n",
      "   word_count  exclaim_count  quest_count\n",
      "0          42              0            1\n",
      "1          18              1            0\n",
      "2          42              0            0\n",
      "3         112              0            0\n",
      "4          13              0            1\n",
      "5          12              0            0\n",
      "6           8              0            0\n",
      "7          21              0            0\n",
      "8          83              0            1\n",
      "9          12              0            0\n",
      "Size of combined bag of words and new quantitative variables matrix:\n",
      "(159571, 131075)\n",
      "(159571, 131075)\n",
      "Shape of X_train and X_test:\n",
      "(127656, 131075)\n",
      "(31915, 131075)\n",
      "Shape of y_train and y_test:\n",
      "(127656,)\n",
      "(31915,)\n",
      "Shape of X_raw_train and X_raw_test:\n",
      "(127656, 12)\n",
      "(31915, 12)\n",
      "SUCCESS!\n",
      "Number of fits stored in `fitted_transformations` list: \n",
      "3\n"
     ]
    }
   ],
   "source": [
    "# create an empty list to store any use of fit_transform() to transform() later\n",
    "# it is a global list to store model and feature extraction fits\n",
    "fitted_transformations = []\n",
    "\n",
    "# CHANGE FILE PATH and my_random_seed number (any integer other than 74 will do): \n",
    "X_train, X_test, y_train, y_test, X_raw_train, X_raw_test = process_raw_data(fn='../../data/toxiccomments_train.csv', my_random_seed=1999)\n",
    "\n",
    "print(\"Number of fits stored in `fitted_transformations` list: \")\n",
    "print(len(fitted_transformations))"
   ]
  },
  {
   "cell_type": "markdown",
   "metadata": {},
   "source": [
    "# Fit (and tune) Various Models"
   ]
  },
  {
   "cell_type": "markdown",
   "metadata": {},
   "source": [
    "### MODEL: SVM-C"
   ]
  },
  {
   "cell_type": "markdown",
   "metadata": {},
   "source": [
    "### SVM-C c-value/margin = 0.9; 1.1; 1.3; 0.8; 0.7; 0.5; 4\n",
    "Cfloat, default=1.0\n",
    "\n",
    "    Regularization parameter. The strength of the regularization is inversely proportional to C. Must be strictly positive.\n"
   ]
  },
  {
   "cell_type": "code",
   "execution_count": 55,
   "metadata": {},
   "outputs": [
    {
     "name": "stderr",
     "output_type": "stream",
     "text": [
      "/Users/smanzar/opt/anaconda3/lib/python3.8/site-packages/sklearn/svm/_base.py:976: ConvergenceWarning: Liblinear failed to converge, increase the number of iterations.\n",
      "  warnings.warn(\"Liblinear failed to converge, increase \"\n"
     ]
    },
    {
     "name": "stdout",
     "output_type": "stream",
     "text": [
      "{'Pos': 12971, 'Neg': 114685, 'TP': 12960, 'TN': 114658, 'FP': 27, 'FN': 11, 'Accuracy': 0.9997023249984333, 'Precision': 0.997920997920998, 'Recall': 0.9991519543597256, 'desc': 'svmc_09_train'}\n"
     ]
    }
   ],
   "source": [
    "from sklearn.svm import LinearSVC\n",
    "svmc_09 = LinearSVC(loss='hinge', C=0.9)\n",
    "svmc_09.fit(X_train, y_train)\n",
    "\n",
    "svmc_09_performance_train = BinaryClassificationPerformance(svmc_09.predict(X_train), y_train, 'svmc_09_train')\n",
    "svmc_09_performance_train.compute_measures()\n",
    "print(svmc_09_performance_train.performance_measures)"
   ]
  },
  {
   "cell_type": "code",
   "execution_count": 56,
   "metadata": {},
   "outputs": [
    {
     "name": "stdout",
     "output_type": "stream",
     "text": [
      "{'Pos': 12971, 'Neg': 114685, 'TP': 12954, 'TN': 114662, 'FP': 23, 'FN': 17, 'Accuracy': 0.9996866578930876, 'Precision': 0.9982276335054326, 'Recall': 0.9986893840104849, 'desc': 'svmc_11_train'}\n"
     ]
    }
   ],
   "source": [
    "from sklearn.svm import LinearSVC\n",
    "svmc_11 = LinearSVC(loss='hinge', C=1.1)\n",
    "svmc_11.fit(X_train, y_train)\n",
    "\n",
    "svmc_11_performance_train = BinaryClassificationPerformance(svmc_11.predict(X_train), y_train, 'svmc_11_train')\n",
    "svmc_11_performance_train.compute_measures()\n",
    "print(svmc_11_performance_train.performance_measures)"
   ]
  },
  {
   "cell_type": "code",
   "execution_count": 57,
   "metadata": {},
   "outputs": [
    {
     "name": "stdout",
     "output_type": "stream",
     "text": [
      "{'Pos': 12971, 'Neg': 114685, 'TP': 12958, 'TN': 114658, 'FP': 27, 'FN': 13, 'Accuracy': 0.9996866578930876, 'Precision': 0.9979206777050443, 'Recall': 0.998997764243312, 'desc': 'svmc_13_train'}\n"
     ]
    }
   ],
   "source": [
    "from sklearn.svm import LinearSVC\n",
    "svmc_13 = LinearSVC(loss='hinge', C=1.3)\n",
    "svmc_13.fit(X_train, y_train)\n",
    "\n",
    "svmc_13_performance_train = BinaryClassificationPerformance(svmc_13.predict(X_train), y_train, 'svmc_13_train')\n",
    "svmc_13_performance_train.compute_measures()\n",
    "print(svmc_13_performance_train.performance_measures)"
   ]
  },
  {
   "cell_type": "code",
   "execution_count": 58,
   "metadata": {},
   "outputs": [
    {
     "name": "stdout",
     "output_type": "stream",
     "text": [
      "{'Pos': 12971, 'Neg': 114685, 'TP': 12957, 'TN': 114660, 'FP': 25, 'FN': 14, 'Accuracy': 0.9996944914457605, 'Precision': 0.9980742566630719, 'Recall': 0.9989206691851052, 'desc': 'svmc_08_train'}\n"
     ]
    }
   ],
   "source": [
    "from sklearn.svm import LinearSVC\n",
    "svmc_08 = LinearSVC(loss='hinge', C=0.8)\n",
    "svmc_08.fit(X_train, y_train)\n",
    "\n",
    "svmc_08_performance_train = BinaryClassificationPerformance(svmc_08.predict(X_train), y_train, 'svmc_08_train')\n",
    "svmc_08_performance_train.compute_measures()\n",
    "print(svmc_08_performance_train.performance_measures)"
   ]
  },
  {
   "cell_type": "code",
   "execution_count": 59,
   "metadata": {},
   "outputs": [
    {
     "name": "stdout",
     "output_type": "stream",
     "text": [
      "{'Pos': 12971, 'Neg': 114685, 'TP': 12953, 'TN': 114664, 'FP': 21, 'FN': 18, 'Accuracy': 0.9996944914457605, 'Precision': 0.9983813781408972, 'Recall': 0.9986122889522782, 'desc': 'svmc_07_train'}\n"
     ]
    }
   ],
   "source": [
    "from sklearn.svm import LinearSVC\n",
    "svmc_07 = LinearSVC(loss='hinge', C=0.7)\n",
    "svmc_07.fit(X_train, y_train)\n",
    "\n",
    "svmc_07_performance_train = BinaryClassificationPerformance(svmc_07.predict(X_train), y_train, 'svmc_07_train')\n",
    "svmc_07_performance_train.compute_measures()\n",
    "print(svmc_07_performance_train.performance_measures)"
   ]
  },
  {
   "cell_type": "code",
   "execution_count": 60,
   "metadata": {},
   "outputs": [
    {
     "name": "stdout",
     "output_type": "stream",
     "text": [
      "{'Pos': 12971, 'Neg': 114685, 'TP': 12957, 'TN': 114658, 'FP': 27, 'FN': 14, 'Accuracy': 0.9996788243404149, 'Precision': 0.9979205175600739, 'Recall': 0.9989206691851052, 'desc': 'svmc_05_train'}\n"
     ]
    }
   ],
   "source": [
    "from sklearn.svm import LinearSVC\n",
    "svmc_05 = LinearSVC(loss='hinge', C=0.5)\n",
    "svmc_05.fit(X_train, y_train)\n",
    "\n",
    "svmc_05_performance_train = BinaryClassificationPerformance(svmc_05.predict(X_train), y_train, 'svmc_05_train')\n",
    "svmc_05_performance_train.compute_measures()\n",
    "print(svmc_05_performance_train.performance_measures)"
   ]
  },
  {
   "cell_type": "code",
   "execution_count": 61,
   "metadata": {},
   "outputs": [
    {
     "name": "stdout",
     "output_type": "stream",
     "text": [
      "{'Pos': 12971, 'Neg': 114685, 'TP': 12956, 'TN': 114658, 'FP': 27, 'FN': 15, 'Accuracy': 0.999670990787742, 'Precision': 0.9979203573904336, 'Recall': 0.9988435741268985, 'desc': 'svmc_4_train'}\n"
     ]
    }
   ],
   "source": [
    "from sklearn.svm import LinearSVC\n",
    "svmc_4 = LinearSVC(loss='hinge', C=4)\n",
    "svmc_4.fit(X_train, y_train)\n",
    "\n",
    "svmc_4_performance_train = BinaryClassificationPerformance(svmc_4.predict(X_train), y_train, 'svmc_4_train')\n",
    "svmc_4_performance_train.compute_measures()\n",
    "print(svmc_4_performance_train.performance_measures)"
   ]
  },
  {
   "cell_type": "markdown",
   "metadata": {},
   "source": [
    "### ROC plot to compare performance of various models and fits"
   ]
  },
  {
   "cell_type": "code",
   "execution_count": 62,
   "metadata": {
    "scrolled": false
   },
   "outputs": [
    {
     "data": {
      "image/png": "[encoded data removed]",
      "text/plain": [
       "<Figure size 432x288 with 1 Axes>"
      ]
     },
     "metadata": {
      "needs_background": "light"
     },
     "output_type": "display_data"
    }
   ],
   "source": [
    "# fits = [ols_performance_train, svm_performance_train, lgs_performance_train, nbs_performance_train, prc_performance_train, rdg_performance_train, rdf_performance_train]\n",
    "# fits = [svm_performance_train, lgs_performance_train, nbs_performance_train, prc_performance_train, rdg_performance_train]\n",
    "# fits = [svm_performance_train, lgs_performance_train, nbs_performance_train, prc_performance_train, rdg_800_performance_train, rdg_50000_performance_train]\n",
    "fits_svmc = [svmc_09_performance_train, svmc_11_performance_train, svmc_13_performance_train, svmc_08_performance_train, svmc_07_performance_train, svmc_05_performance_train, svmc_4_performance_train]\n",
    "\n",
    "\n",
    "# for fit in fits:\n",
    "#     plt.plot(fit.performance_measures['FP'] / fit.performance_measures['Neg'], \n",
    "#              fit.performance_measures['TP'] / fit.performance_measures['Pos'], 'bo')\n",
    "#     plt.text(fit.performance_measures['FP'] / fit.performance_measures['Neg'], \n",
    "#              fit.performance_measures['TP'] / fit.performance_measures['Pos'], fit.desc)\n",
    "# plt.axis([0, 1, 0, 1])\n",
    "# plt.title('ROC plot: train set')\n",
    "# plt.xlabel('False positive rate')\n",
    "# plt.ylabel('True positive rate')\n",
    "# plt.show()\n",
    "\n",
    "for fit in fits_svmc:\n",
    "    plt.plot(fit.performance_measures['FP'] / fit.performance_measures['Neg'], \n",
    "             fit.performance_measures['TP'] / fit.performance_measures['Pos'], 'bo')\n",
    "    plt.text(fit.performance_measures['FP'] / fit.performance_measures['Neg'], \n",
    "             fit.performance_measures['TP'] / fit.performance_measures['Pos'], fit.desc)\n",
    "plt.axis([0, 1, 0, 1])\n",
    "plt.title('ROC plot: train set')\n",
    "plt.xlabel('False positive rate')\n",
    "plt.ylabel('True positive rate')\n",
    "plt.show()"
   ]
  },
  {
   "cell_type": "markdown",
   "metadata": {},
   "source": [
    "---\n",
    "\n",
    "# <span style=\"color:red\">WARNING: Don't look at test set performance too much!</span>\n",
    "\n",
    "---\n",
    "\n",
    "The following cells show performance on your test set. Do not look at this too often! "
   ]
  },
  {
   "cell_type": "markdown",
   "metadata": {},
   "source": [
    "# Look at performance on the test set"
   ]
  },
  {
   "cell_type": "markdown",
   "metadata": {},
   "source": [
    "### MODEL: SVM-C"
   ]
  },
  {
   "cell_type": "markdown",
   "metadata": {},
   "source": [
    "### SVM-C c-value/margin = 10\n"
   ]
  },
  {
   "cell_type": "code",
   "execution_count": 63,
   "metadata": {},
   "outputs": [
    {
     "name": "stdout",
     "output_type": "stream",
     "text": [
      "{'Pos': 3254, 'Neg': 28661, 'TP': 2079, 'TN': 25828, 'FP': 2833, 'FN': 1175, 'Accuracy': 0.874416418611938, 'Precision': 0.42324918566775244, 'Recall': 0.6389059618930547, 'desc': 'svmc_09_test'}\n"
     ]
    }
   ],
   "source": [
    "svmc_09_performance_test = BinaryClassificationPerformance(svmc_09.predict(X_test), y_test, 'svmc_09_test')\n",
    "svmc_09_performance_test.compute_measures()\n",
    "print(svmc_09_performance_test.performance_measures)"
   ]
  },
  {
   "cell_type": "code",
   "execution_count": 64,
   "metadata": {},
   "outputs": [
    {
     "name": "stdout",
     "output_type": "stream",
     "text": [
      "{'Pos': 3254, 'Neg': 28661, 'TP': 2075, 'TN': 25850, 'FP': 2811, 'FN': 1179, 'Accuracy': 0.8749804167319443, 'Precision': 0.42468276708964386, 'Recall': 0.6376767055931162, 'desc': 'svmc_11_test'}\n"
     ]
    }
   ],
   "source": [
    "svmc_11_performance_test = BinaryClassificationPerformance(svmc_11.predict(X_test), y_test, 'svmc_11_test')\n",
    "svmc_11_performance_test.compute_measures()\n",
    "print(svmc_11_performance_test.performance_measures)"
   ]
  },
  {
   "cell_type": "code",
   "execution_count": 65,
   "metadata": {},
   "outputs": [
    {
     "name": "stdout",
     "output_type": "stream",
     "text": [
      "{'Pos': 3254, 'Neg': 28661, 'TP': 2076, 'TN': 25848, 'FP': 2813, 'FN': 1178, 'Accuracy': 0.874949083503055, 'Precision': 0.4246267130292493, 'Recall': 0.6379840196681008, 'desc': 'svmc_13_test'}\n"
     ]
    }
   ],
   "source": [
    "svmc_13_performance_test = BinaryClassificationPerformance(svmc_13.predict(X_test), y_test, 'svmc_13_test')\n",
    "svmc_13_performance_test.compute_measures()\n",
    "print(svmc_13_performance_test.performance_measures)"
   ]
  },
  {
   "cell_type": "code",
   "execution_count": 66,
   "metadata": {},
   "outputs": [
    {
     "name": "stdout",
     "output_type": "stream",
     "text": [
      "{'Pos': 3254, 'Neg': 28661, 'TP': 2077, 'TN': 25832, 'FP': 2829, 'FN': 1177, 'Accuracy': 0.8744790850697164, 'Precision': 0.4233591520587036, 'Recall': 0.6382913337430854, 'desc': 'svmc_08_test'}\n"
     ]
    }
   ],
   "source": [
    "svmc_08_performance_test = BinaryClassificationPerformance(svmc_08.predict(X_test), y_test, 'svmc_08_test')\n",
    "svmc_08_performance_test.compute_measures()\n",
    "print(svmc_08_performance_test.performance_measures)"
   ]
  },
  {
   "cell_type": "code",
   "execution_count": 67,
   "metadata": {},
   "outputs": [
    {
     "name": "stdout",
     "output_type": "stream",
     "text": [
      "{'Pos': 3254, 'Neg': 28661, 'TP': 2077, 'TN': 25845, 'FP': 2816, 'FN': 1177, 'Accuracy': 0.8748864170452765, 'Precision': 0.42448395667279787, 'Recall': 0.6382913337430854, 'desc': 'svmc_07_test'}\n"
     ]
    }
   ],
   "source": [
    "svmc_07_performance_test = BinaryClassificationPerformance(svmc_07.predict(X_test), y_test, 'svmc_07_test')\n",
    "svmc_07_performance_test.compute_measures()\n",
    "print(svmc_07_performance_test.performance_measures)"
   ]
  },
  {
   "cell_type": "code",
   "execution_count": 68,
   "metadata": {},
   "outputs": [
    {
     "name": "stdout",
     "output_type": "stream",
     "text": [
      "{'Pos': 3254, 'Neg': 28661, 'TP': 2080, 'TN': 25848, 'FP': 2813, 'FN': 1174, 'Accuracy': 0.8750744164186119, 'Precision': 0.42509707745759245, 'Recall': 0.6392132759680393, 'desc': 'svmc_05_test'}\n"
     ]
    }
   ],
   "source": [
    "svmc_05_performance_test = BinaryClassificationPerformance(svmc_05.predict(X_test), y_test, 'svmc_05_test')\n",
    "svmc_05_performance_test.compute_measures()\n",
    "print(svmc_05_performance_test.performance_measures)"
   ]
  },
  {
   "cell_type": "code",
   "execution_count": 69,
   "metadata": {},
   "outputs": [
    {
     "name": "stdout",
     "output_type": "stream",
     "text": [
      "{'Pos': 3254, 'Neg': 28661, 'TP': 2080, 'TN': 25827, 'FP': 2834, 'FN': 1174, 'Accuracy': 0.874416418611938, 'Precision': 0.42328042328042326, 'Recall': 0.6392132759680393, 'desc': 'svmc_4_test'}\n"
     ]
    }
   ],
   "source": [
    "svmc_4_performance_test = BinaryClassificationPerformance(svmc_4.predict(X_test), y_test, 'svmc_4_test')\n",
    "svmc_4_performance_test.compute_measures()\n",
    "print(svmc_4_performance_test.performance_measures)"
   ]
  },
  {
   "cell_type": "markdown",
   "metadata": {},
   "source": [
    "### ROC plot to compare performance of various models and fits"
   ]
  },
  {
   "cell_type": "code",
   "execution_count": 78,
   "metadata": {},
   "outputs": [
    {
     "data": {
      "image/png": "[encoded data removed]",
      "text/plain": [
       "<Figure size 432x288 with 1 Axes>"
      ]
     },
     "metadata": {
      "needs_background": "light"
     },
     "output_type": "display_data"
    },
    {
     "data": {
      "image/png": "[encoded data removed]",
      "text/plain": [
       "<Figure size 432x288 with 1 Axes>"
      ]
     },
     "metadata": {
      "needs_background": "light"
     },
     "output_type": "display_data"
    }
   ],
   "source": [
    "# fits = [ols_performance_test, svm_performance_test, lgs_performance_test, nbs_performance_test, prc_performance_test, rdg_performance_test, rdf_performance_test]\n",
    "# fits = [svm_performance_test, lgs_performance_test, nbs_performance_test, prc_performance_test, rdg_performance_test, rdf_performance_test]\n",
    "# fits = [svm_performance_test, lgs_performance_test, nbs_performance_test, prc_performance_test, rdg_performance_test]\n",
    "# fits = [svmc_10_performance_test, svm_performance_test, lgs_performance_test, nbs_performance_test, prc_performance_test, rdg_800_performance_test, rdg_50000_performance_test]\n",
    "\n",
    "\n",
    "# for fit in fits:\n",
    "#     plt.plot(fit.performance_measures['FP'] / fit.performance_measures['Neg'], \n",
    "#              fit.performance_measures['TP'] / fit.performance_measures['Pos'], 'bo')\n",
    "#     plt.text(fit.performance_measures['FP'] / fit.performance_measures['Neg'], \n",
    "#              fit.performance_measures['TP'] / fit.performance_measures['Pos'], fit.desc)\n",
    "# plt.axis([0, 1, 0, 1])\n",
    "# plt.title('ROC plot: test set')\n",
    "# plt.xlabel('False positive rate')\n",
    "# plt.ylabel('True positive rate')\n",
    "# plt.show()\n",
    "\n",
    "# fits_small = [svmc_10_performance_test, svm_performance_test, rdg_800_performance_test, rdg_50000_performance_test]\n",
    "\n",
    "\n",
    "# for fit in fits_small:\n",
    "#     plt.plot(fit.performance_measures['FP'] / fit.performance_measures['Neg'], \n",
    "#              fit.performance_measures['TP'] / fit.performance_measures['Pos'], 'bo')\n",
    "#     plt.text(fit.performance_measures['FP'] / fit.performance_measures['Neg'], \n",
    "#              fit.performance_measures['TP'] / fit.performance_measures['Pos'], fit.desc)\n",
    "# plt.axis([0, 1, 0, 1])\n",
    "# plt.title('ROC plot: test set')\n",
    "# plt.xlabel('False positive rate')\n",
    "# plt.ylabel('True positive rate')\n",
    "# plt.show()\n",
    "\n",
    "fits_svmc = [svmc_07_performance_test, svmc_11_performance_test, svmc_13_performance_test, svmc_08_performance_test, svmc_07_performance_test, svmc_05_performance_test, svmc_4_performance_test]\n",
    "for fit in fits_svmc:\n",
    "    plt.plot(fit.performance_measures['FP'] / fit.performance_measures['Neg'], \n",
    "             fit.performance_measures['TP'] / fit.performance_measures['Pos'], 'bo')\n",
    "    plt.text(fit.performance_measures['FP'] / fit.performance_measures['Neg'], \n",
    "             fit.performance_measures['TP'] / fit.performance_measures['Pos'], fit.desc)\n",
    "plt.axis([0, 1, 0, 1])\n",
    "plt.title('ROC plot: test set')\n",
    "plt.xlabel('False positive rate')\n",
    "plt.ylabel('True positive rate')\n",
    "plt.show()\n",
    "\n",
    "for fit in fits_svmc:\n",
    "    plt.plot(fit.performance_measures['FP'] / fit.performance_measures['Neg'], \n",
    "             fit.performance_measures['TP'] / fit.performance_measures['Pos'], 'bo')\n",
    "    plt.text(fit.performance_measures['FP'] / fit.performance_measures['Neg'], \n",
    "             fit.performance_measures['TP'] / fit.performance_measures['Pos'], fit.desc)\n",
    "plt.axis([0.09, 0.11, 0.6369, 0.64])\n",
    "plt.title('ROC plot: test set')\n",
    "plt.xlabel('False positive rate')\n",
    "plt.ylabel('True positive rate')\n",
    "plt.show()\n"
   ]
  },
  {
   "cell_type": "code",
   "execution_count": null,
   "metadata": {},
   "outputs": [],
   "source": []
  }
 ],
 "metadata": {
  "kernelspec": {
   "display_name": "Python 3",
   "language": "python",
   "name": "python3"
  },
  "language_info": {
   "codemirror_mode": {
    "name": "ipython",
    "version": 3
   },
   "file_extension": ".py",
   "mimetype": "text/x-python",
   "name": "python",
   "nbconvert_exporter": "python",
   "pygments_lexer": "ipython3",
   "version": "3.8.3"
  }
 },
 "nbformat": 4,
 "nbformat_minor": 2
}
